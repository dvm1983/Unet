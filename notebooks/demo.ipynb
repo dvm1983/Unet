{
 "cells": [
  {
   "cell_type": "code",
   "execution_count": 1,
   "metadata": {},
   "outputs": [],
   "source": [
    "import os\n",
    "os.chdir(\"..\")\n",
    "\n",
    "import json\n",
    "import numpy as np\n",
    "from PIL import Image\n",
    "import torch\n",
    "from torch.utils.data import DataLoader\n",
    "\n",
    "from glob import glob\n",
    "\n",
    "from lib import *\n",
    "\n",
    "import albumentations as albu\n",
    "\n",
    "import segmentation_models_pytorch as smp\n",
    "from utils.trainer import Trainer\n",
    "from utils.data.datasets import CustomDataset\n",
    "from utils.data.datasets import get_preprocessing\n",
    "from utils.scorer import DiceLoss"
   ]
  },
  {
   "cell_type": "code",
   "execution_count": 2,
   "metadata": {},
   "outputs": [],
   "source": [
    "train_path = \"./data/train\"\n",
    "val_path = \"./data/val\"\n",
    "test_path = \"./data/real_test\"\n",
    "\n",
    "encoder = 'resnet50'\n",
    "encoder_weights = 'imagenet'\n",
    "device = 'cuda'\n",
    "lr = 2e-5\n",
    "batch_size = 10\n",
    "num_workers = 0"
   ]
  },
  {
   "cell_type": "code",
   "execution_count": 3,
   "metadata": {},
   "outputs": [],
   "source": [
    "model = smp.Unet(encoder_name=encoder)\n",
    "preprocessing_fn = smp.encoders.get_preprocessing_fn(encoder, encoder_weights)"
   ]
  },
  {
   "cell_type": "code",
   "execution_count": 4,
   "metadata": {},
   "outputs": [],
   "source": [
    "augmentations = [albu.RandomRotate90(), \n",
    "                 albu.Flip(), \n",
    "                 albu.Transpose(),\n",
    "                 albu.OneOf([albu.IAAAdditiveGaussianNoise(), \n",
    "                             albu.GaussNoise()], p=0.2),\n",
    "                 albu.OneOf([albu.MotionBlur(p=0.2), \n",
    "                             albu.MedianBlur(blur_limit=3, p=0.1), \n",
    "                             albu.Blur(blur_limit=3, p=0.1)], p=0.2),\n",
    "                 albu.ShiftScaleRotate(shift_limit=0.0625, scale_limit=0.2, rotate_limit=45, p=0.2),\n",
    "                 albu.HueSaturationValue(p=0.3)]\n",
    "transforms = albu.Compose(augmentations, p=0.5)"
   ]
  },
  {
   "cell_type": "code",
   "execution_count": 5,
   "metadata": {},
   "outputs": [],
   "source": [
    "train_dataset = CustomDataset(data_path=train_path, transforms=transforms,\\\n",
    "                              preprocessing=get_preprocessing(preprocessing_fn))\n",
    "val_dataset = CustomDataset(data_path=val_path, transforms=transforms,\\\n",
    "                            preprocessing=get_preprocessing(preprocessing_fn))\n",
    "    \n",
    "train_loader = DataLoader(train_dataset, batch_size=batch_size, shuffle=False, num_workers=num_workers)\n",
    "val_loader = DataLoader(val_dataset, batch_size=batch_size, shuffle=False, num_workers=num_workers)"
   ]
  },
  {
   "cell_type": "code",
   "execution_count": 6,
   "metadata": {},
   "outputs": [],
   "source": [
    "trainer = Trainer(model, device=device, model_name='unet')"
   ]
  },
  {
   "cell_type": "code",
   "execution_count": null,
   "metadata": {
    "scrolled": true
   },
   "outputs": [],
   "source": [
    "trainer.train(train_dataloader=train_loader, val_dataloader=val_loader , n_epoch=10,\\\n",
    "              optim=torch.optim.Adam, weight_decay=0.0,\\\n",
    "              schedul=None, loss=DiceLoss(), lr=2e-5, show_results=True,\\\n",
    "              saved_models_dir=None, verbose=False, early_stopping=False, max_gap=5, gamma=None)"
   ]
  },
  {
   "cell_type": "code",
   "execution_count": null,
   "metadata": {},
   "outputs": [],
   "source": [
    "test_dataset = CustomDataset(data_path=test_path, masks=False, transforms=None, preprocessing=get_preprocessing(preprocessing_fn))\n",
    "test_loader = DataLoader(test_dataset, batch_size=1, shuffle=False, num_workers=0)"
   ]
  },
  {
   "cell_type": "code",
   "execution_count": null,
   "metadata": {
    "scrolled": false
   },
   "outputs": [],
   "source": [
    "th = 0.5\n",
    "model.eval()\n",
    "for img_id, src in enumerate(test_loader):\n",
    "    mask = model(src.to(device))\n",
    "    mask = mask.detach().cpu().numpy().reshape(512, 512)\n",
    "    mask = (mask >= th).astype(int)\n",
    "    mask = mask*255\n",
    "    img = np.array(Image.open(f\"{test_path}/{img_id:04}.jpg\"))\n",
    "    show_img_with_mask(img, mask)\n",
    "    print('='*30)"
   ]
  }
 ],
 "metadata": {
  "kernelspec": {
   "display_name": "Python 3",
   "language": "python",
   "name": "python3"
  },
  "language_info": {
   "codemirror_mode": {
    "name": "ipython",
    "version": 3
   },
   "file_extension": ".py",
   "mimetype": "text/x-python",
   "name": "python",
   "nbconvert_exporter": "python",
   "pygments_lexer": "ipython3",
   "version": "3.7.6"
  }
 },
 "nbformat": 4,
 "nbformat_minor": 4
}
